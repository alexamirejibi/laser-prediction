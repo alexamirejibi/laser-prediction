{
 "cells": [
  {
   "cell_type": "markdown",
   "metadata": {},
   "source": [
    "# 1 Dataset and Task\n",
    " (a) Select your choice of neural networks model that is suitable for this task and motivate it. Train your model\n",
    " to predict one step ahead data point, during training (see following Figure). Scale your data before training\n",
    " and scale them back to be able to compare your predictions with real measurements.\n",
    " \n",
    " (b) How many past time steps should you input into your network to achieve the best possible performance?\n",
    " (Hint: This is a tunable parameter and needs to be tuned).\n",
    " \n",
    " (c) Once your model is trained, use it to predict the next 200 data points recursively. This means feeding each\n",
    " prediction back into the model to generate the subsequent predictions.)\n",
    " \n",
    " (d) On May 9th, download the real test dataset and evaluate your model by reporting both the Mean Absolute\n",
    " Error (MAE) and Mean Squared Error (MSE) between its predictions and the actual test values. Additionally,\n",
    " create a plot comparing the predicted and real values to visually assess your models performance."
   ]
  },
  {
   "cell_type": "markdown",
   "metadata": {},
   "source": [
    "First, we load the data and take a look at it. We also install torch:"
   ]
  },
  {
   "cell_type": "code",
   "execution_count": 14,
   "metadata": {},
   "outputs": [
    {
     "name": "stdout",
     "output_type": "stream",
     "text": [
      "Data shape: (1000, 1)\n",
      "Data type: uint8\n",
      "Min value: 2\n",
      "Max value: 255\n"
     ]
    },
    {
     "data": {
      "image/png": "[encoded data removed]",
      "text/plain": [
       "<Figure size 432x288 with 1 Axes>"
      ]
     },
     "metadata": {
      "needs_background": "light"
     },
     "output_type": "display_data"
    }
   ],
   "source": [
    "file = 'Xtrain.mat'\n",
    "# load training data\n",
    "import scipy.io\n",
    "import numpy as np\n",
    "import matplotlib.pyplot as plt\n",
    "import torch\n",
    "import torch.nn as nn\n",
    "\n",
    "# Load the training data\n",
    "data = scipy.io.loadmat(file)\n",
    "X_train = data['Xtrain']\n",
    "\n",
    "# Display basic information about the data\n",
    "print(f\"Data shape: {X_train.shape}\")\n",
    "print(f\"Data type: {X_train.dtype}\")\n",
    "print(f\"Min value: {np.min(X_train)}\")\n",
    "print(f\"Max value: {np.max(X_train)}\")\n",
    "\n",
    "# plot the data\n",
    "plt.plot(X_train)\n",
    "plt.show()\n"
   ]
  },
  {
   "cell_type": "markdown",
   "metadata": {},
   "source": [
    "Now, we scale the data, because then the network works better and faster. \n",
    "I also want to scale it back, so that it can get the right outputs."
   ]
  },
  {
   "cell_type": "code",
   "execution_count": 15,
   "metadata": {},
   "outputs": [
    {
     "name": "stdout",
     "output_type": "stream",
     "text": [
      "First few scaled values:\n",
      "[[ 0.55720154]\n",
      " [ 1.73111118]\n",
      " [ 0.74929585]\n",
      " [-0.40326998]\n",
      " [-0.8088024 ]]\n",
      "First few restored values:\n",
      "[[ 86.]\n",
      " [141.]\n",
      " [ 95.]\n",
      " [ 41.]\n",
      " [ 22.]]\n",
      "Data shape: (1000, 1)\n",
      "Data type: float64\n",
      "Min value: -1.2356786270219065\n",
      "Max value: 4.16430570013708\n"
     ]
    }
   ],
   "source": [
    "import sklearn\n",
    "from sklearn.preprocessing import StandardScaler\n",
    "\n",
    "#let's scale the data\n",
    "scaler = StandardScaler()\n",
    "scaled_data = scaler.fit_transform(X_train.reshape(-1, 1))\n",
    "\n",
    "#We also want the scaled back data ready:\n",
    "restored_data = scaler.inverse_transform(scaled_data)\n",
    "\n",
    "# Printing the first few values of the scaled and restored data to check\n",
    "print(f\"First few scaled values:\\n{scaled_data[:5]}\")\n",
    "print(f\"First few restored values:\\n{restored_data[:5]}\")\n",
    "\n",
    "#Display basic information about the data\n",
    "print(f\"Data shape: {scaled_data.shape}\")\n",
    "print(f\"Data type: {scaled_data.dtype}\")\n",
    "print(f\"Min value: {np.min(scaled_data)}\")\n",
    "print(f\"Max value: {np.max(scaled_data)}\")"
   ]
  },
  {
   "cell_type": "code",
   "execution_count": 16,
   "metadata": {},
   "outputs": [],
   "source": [
    "#Now we want to split the data so that we have validation data:\n",
    "split_ratio = 0.8\n",
    "split_point = int(len(scaled_data) * split_ratio)\n",
    "\n",
    "train_data = scaled_data[:split_point]\n",
    "val_data = scaled_data[split_point:]\n",
    "\n",
    "#making tensors:\n",
    "#tensor_of_data = torch.tensor(train_data)\n",
    "#print(f\"`Tensor of the data` is a {tensor_of_data.ndim}-d Tensor with shape: {tensor_of_data.shape}\")"
   ]
  },
  {
   "cell_type": "code",
   "execution_count": 17,
   "metadata": {},
   "outputs": [],
   "source": [
    "#Now we define the function that retrieves the sequences:\n",
    "def create_sequences(data, seq_len):\n",
    "    sequences = []\n",
    "    labels = []\n",
    "    for i in range(len(data) - seq_len):\n",
    "        seq = data[i:i+seq_len]\n",
    "        label = data[i+seq_len]\n",
    "        sequences.append(seq)\n",
    "        labels.append(label)\n",
    "    return np.array(sequences), np.array(labels)"
   ]
  },
  {
   "cell_type": "code",
   "execution_count": 18,
   "metadata": {},
   "outputs": [],
   "source": [
    "X_train_seq, y_train = create_sequences(train_data, seq_len)\n",
    "X_val_seq, y_val = create_sequences(val_data, seq_len)\n",
    "\n",
    "# Convert to PyTorch tensors\n",
    "X_train_seq = torch.tensor(X_train_seq, dtype=torch.float32)\n",
    "y_train = torch.tensor(y_train, dtype=torch.float32)\n",
    "X_val_seq = torch.tensor(X_val_seq, dtype=torch.float32)\n",
    "y_val = torch.tensor(y_val, dtype=torch.float32)"
   ]
  },
  {
   "cell_type": "code",
   "execution_count": 19,
   "metadata": {},
   "outputs": [],
   "source": [
    "from torch.utils.data import TensorDataset, DataLoader\n",
    "\n",
    "batch_size = 64\n",
    "\n",
    "train_dataset = TensorDataset(X_train_seq, y_train)\n",
    "val_dataset = TensorDataset(X_val_seq, y_val)\n",
    "\n",
    "train_loader = DataLoader(train_dataset, batch_size=batch_size, shuffle=True)\n",
    "val_loader = DataLoader(val_dataset, batch_size=batch_size)"
   ]
  },
  {
   "cell_type": "code",
   "execution_count": 22,
   "metadata": {},
   "outputs": [],
   "source": [
    "#making the LSTM\n",
    "class LSTMModel(nn.Module):\n",
    "    def __init__(self, input_size=1, hidden_size=64, num_layers=1):\n",
    "        super().__init__()\n",
    "        self.lstm = nn.LSTM(input_size, hidden_size, num_layers, batch_first=True)\n",
    "        self.fc = nn.Linear(hidden_size, 1)\n",
    "\n",
    "    def forward(self, x):\n",
    "        out, _ = self.lstm(x)\n",
    "        out = out[:, -1, :]  # use output from last time step\n",
    "        out = self.fc(out)\n",
    "        return out"
   ]
  },
  {
   "cell_type": "code",
   "execution_count": 31,
   "metadata": {},
   "outputs": [
    {
     "name": "stdout",
     "output_type": "stream",
     "text": [
      "Epoch 1/10 - Train Loss: 0.9750 - Val Loss: 0.9667\n",
      "Epoch 2/10 - Train Loss: 0.8971 - Val Loss: 0.8892\n",
      "Epoch 3/10 - Train Loss: 0.8327 - Val Loss: 0.7127\n",
      "Epoch 4/10 - Train Loss: 0.5416 - Val Loss: 0.2889\n",
      "Epoch 5/10 - Train Loss: 0.3591 - Val Loss: 0.1371\n",
      "Epoch 6/10 - Train Loss: 0.2615 - Val Loss: 0.1101\n",
      "Epoch 7/10 - Train Loss: 0.2310 - Val Loss: 0.0928\n",
      "Epoch 8/10 - Train Loss: 0.1886 - Val Loss: 0.0642\n",
      "Epoch 9/10 - Train Loss: 0.1663 - Val Loss: 0.0413\n",
      "Epoch 10/10 - Train Loss: 0.1412 - Val Loss: 0.0192\n"
     ]
    }
   ],
   "source": [
    "# Training setup\n",
    "device = torch.device('cuda' if torch.cuda.is_available() else 'cpu')\n",
    "model = LSTMModel().to(device)\n",
    "criterion = nn.MSELoss()\n",
    "optimizer = torch.optim.Adam(model.parameters(), lr=0.001)\n",
    "seq_len = 10 # try different ones\n",
    "\n",
    "# Training loop\n",
    "num_epochs = 10\n",
    "for epoch in range(num_epochs):\n",
    "    model.train()\n",
    "    train_loss = 0\n",
    "    for X_batch, y_batch in train_loader:\n",
    "        X_batch = X_batch.to(device)\n",
    "        y_batch = y_batch.to(device)\n",
    "\n",
    "        optimizer.zero_grad()\n",
    "        output = model(X_batch)\n",
    "        loss = criterion(output.squeeze(), y_batch.squeeze())\n",
    "        loss.backward()\n",
    "        optimizer.step()\n",
    "        train_loss += loss.item()\n",
    "\n",
    "    model.eval()\n",
    "    val_loss = 0\n",
    "    with torch.no_grad():\n",
    "        for X_batch, y_batch in val_loader:\n",
    "            X_batch = X_batch.to(device)\n",
    "            y_batch = y_batch.to(device)\n",
    "            output = model(X_batch)\n",
    "            loss = criterion(output.squeeze(), y_batch.squeeze())\n",
    "            val_loss += loss.item()\n",
    "\n",
    "    print(f\"Epoch {epoch+1}/{num_epochs} - Train Loss: {train_loss/len(train_loader):.4f} - Val Loss: {val_loss/len(val_loader):.4f}\")"
   ]
  },
  {
   "cell_type": "code",
   "execution_count": null,
   "metadata": {},
   "outputs": [],
   "source": []
  },
  {
   "cell_type": "code",
   "execution_count": null,
   "metadata": {},
   "outputs": [],
   "source": []
  }
 ],
 "metadata": {
  "kernelspec": {
   "display_name": "Python 3",
   "language": "python",
   "name": "python3"
  },
  "language_info": {
   "codemirror_mode": {
    "name": "ipython",
    "version": 3
   },
   "file_extension": ".py",
   "mimetype": "text/x-python",
   "name": "python",
   "nbconvert_exporter": "python",
   "pygments_lexer": "ipython3",
   "version": "3.8.5"
  }
 },
 "nbformat": 4,
 "nbformat_minor": 4
}
